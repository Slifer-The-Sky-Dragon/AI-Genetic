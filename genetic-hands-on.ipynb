{
 "cells": [
  {
   "cell_type": "markdown",
   "metadata": {},
   "source": [
    "<h1 style = \"font-size: 30px; text-align: center;\">AI Genetic Hands On</h1>\n",
    "<h2 style = \"font-size: 25px; text-align: center;\">Hospital Job Scheduling</h2>\n",
    "<h2 style = \"font-size: 25px; text-align: center; color: #666\">Name: Alireza Aghaei </h2>\n",
    "<h2 style = \"font-size: 25px; text-align: center; color: #666\">Student Id: 810197679 </h2>\n",
    "<h4 style=\"text-align: center\">Spring 1400</h4>"
   ]
  },
  {
   "cell_type": "markdown",
   "metadata": {},
   "source": [
    "<h2 style = \"font-size: 25px;\">Notes</h2>\n",
    "\n",
    "<h3>Tests: </h3>\n",
    "\n",
    "<p style=\"text-indent :2em;\"><b>Test1: </b><mark>Average time < 15s</mark></p>\n",
    "<p style=\"text-indent :2em;\"><b>Test2: </b><mark>Average time < 60s</mark></p>\n",
    "    \n",
    "\n",
    "<h3>Outputs: </h3>\n",
    "<p style=\"text-indent :2em;\">Respectively <mark>output1.txt</mark> and <mark>output2.txt</mark></p>\n",
    "\n",
    "<br>"
   ]
  },
  {
   "cell_type": "markdown",
   "metadata": {},
   "source": [
    "<h2 style = \"font-size: 25px;\">Test Files</h2>"
   ]
  },
  {
   "cell_type": "code",
   "execution_count": 1,
   "metadata": {},
   "outputs": [],
   "source": [
    "import random\n",
    "testFile1 = \"test1.txt\"\n",
    "testFile2 = \"test2.txt\"\n",
    "outputFile1 = \"output1.txt\"\n",
    "outputFile2 = \"output2.txt\""
   ]
  },
  {
   "cell_type": "markdown",
   "metadata": {},
   "source": [
    "<h2 style = \"font-size: 25px;\">Reading Test File Content</h2>"
   ]
  },
  {
   "cell_type": "code",
   "execution_count": 2,
   "metadata": {},
   "outputs": [],
   "source": [
    "def readInput(testFile) :\n",
    "    file = open(testFile, 'r+')\n",
    "    fileList = file.readlines()\n",
    "    fileList = [s.replace('\\n', '') for s in fileList]\n",
    "    \n",
    "    [days, doctors] = [int(i) for i in fileList[0].split()]\n",
    "    maxCapacity = int(fileList[1])\n",
    "    \n",
    "    allShifts = []\n",
    "    for i in range(2, days + 2):\n",
    "        dayRequirements = fileList[i].split()\n",
    "        morningReqs = [int(i) for i in dayRequirements[0].split(\",\")]\n",
    "        eveningReqs = [int(i) for i in dayRequirements[1].split(\",\")]\n",
    "        nightReqs = [int(i) for i in dayRequirements[2].split(\",\")]\n",
    "        \n",
    "        allShifts.append((morningReqs, eveningReqs, nightReqs))\n",
    "\n",
    "    file.close()\n",
    "    return [days, list(range(doctors)), maxCapacity, allShifts]"
   ]
  },
  {
   "cell_type": "markdown",
   "metadata": {},
   "source": [
    "<h2 style = \"font-size: 25px;\">Job Scheduler</h2>"
   ]
  },
  {
   "cell_type": "code",
   "execution_count": 3,
   "metadata": {},
   "outputs": [],
   "source": [
    "class JobScheduler:\n",
    "    def __init__(self, fileInfo):\n",
    "        self.days = fileInfo[0]\n",
    "        self.doctors = len(fileInfo[1])\n",
    "        self.doctorsIds = fileInfo[1]\n",
    "        self.maxCapacity = fileInfo[2]\n",
    "        self.allShifts = fileInfo[3]\n",
    "\n",
    "        # You can use these values for your genetic algorithm\n",
    "        self.popSize = 300\n",
    "        self.crossOverPoints = self.days#(relative to number of days)\n",
    "        self.elitismPercentage = 3 #(move x% best of parents directly to the new population)\n",
    "        self.pc = 0.6 #(crossover probability) 0.65\n",
    "        self.pm = 0.004  #(mutation probability) 0.4\n",
    "        self.goalFitnessVal = 3 * self.doctors + self.days\n",
    "        self.chromosomes = self.generateInitialPopulation()\n",
    "        \n",
    "        \n",
    "    def generateInitialPopulation(self):\n",
    "        result = []\n",
    "        for i in range(self.popSize):\n",
    "            new_pop = []\n",
    "            for j in range(3 * self.days * self.doctors):\n",
    "                new_pop.append(random.randint(0 , 1))\n",
    "            result.append(new_pop)\n",
    "        return result\n",
    "        \n",
    "    def onePointCrossOver(self, gene1 , gene2):\n",
    "        crossOverPoint = random.randint(0 , 3 * self.days - 2)\n",
    "        backup = gene1[crossOverPoint + 1 : len(gene1)]\n",
    "        gene1[crossOverPoint + 1 : len(gene1)] = gene2[crossOverPoint + 1 : len(gene2)].copy()\n",
    "        gene2[crossOverPoint + 1 : len(gene1)] = backup.copy()\n",
    "        return gene1, gene2\n",
    "\n",
    "    def crossOver(self, chromosome1, chromosome2):\n",
    "        for i in range(0 , len(chromosome1) , 3 * self.days):\n",
    "            prob = random.random()\n",
    "            if prob <= self.pc:\n",
    "                chromosome1[i : i + 3 * self.days], chromosome2[i : i + 3 * self.days] = self.onePointCrossOver(chromosome1[i : i + 3 * self.days], chromosome2[i : i + 3 * self.days])\n",
    "        return chromosome1, chromosome2        \n",
    "\n",
    "    def mutate(self, chromosome):\n",
    "        for i in range(len(chromosome)):\n",
    "            prob = random.random()\n",
    "            if prob <= self.pm:\n",
    "                chromosome[i] = 1 - chromosome[i]\n",
    "        return chromosome\n",
    "\n",
    "    def calculateFitness(self, chromosome):\n",
    "        shiftsPlanedDoctor = []\n",
    "        for i in range(self.days):\n",
    "            shiftsPlanedDoctor.append([0 , 0 , 0])\n",
    "        fitnessVal = 0\n",
    "        for i in range(0, len(chromosome), 3 * self.days):\n",
    "            doctorShiftsCnt = 0\n",
    "            checkThreeNight = True\n",
    "            checkNightAndDay = True\n",
    "            for j in range(i , i + 3 * self.days , 3):\n",
    "                for k in range(j , j + 3):\n",
    "                    if chromosome[k] == 1:\n",
    "                        shiftsPlanedDoctor[(j - i) // 3][k - j] += 1\n",
    "                        doctorShiftsCnt += 1\n",
    "                    if (k != j + 2) and (chromosome[k] == 1) and (j != i) and chromosome[j - 1] == 1:\n",
    "                        checkNightAndDay = False\n",
    "                    if (k == j + 2) and (chromosome[k] == 1) and (j - i >= 6) and (chromosome[j - 1] == 1) and (chromosome[j - 4] == 1):\n",
    "                        checkThreeNight = False\n",
    "            if doctorShiftsCnt <= self.maxCapacity:\n",
    "                fitnessVal += 1\n",
    "            if checkNightAndDay == True:\n",
    "                fitnessVal += 1\n",
    "            if checkThreeNight == True:\n",
    "                fitnessVal += 1\n",
    "        tmp = 0\n",
    "        for i in range(self.days):\n",
    "            for j in range(3):\n",
    "                if shiftsPlanedDoctor[i][j] >= self.allShifts[i][j][0] and shiftsPlanedDoctor[i][j] <= self.allShifts[i][j][1]:\n",
    "                    tmp += 1\n",
    "        fitnessVal += (tmp // 3)\n",
    "        return fitnessVal        \n",
    "\n",
    "    def selection(self):\n",
    "        total = (self.popSize * (self.popSize + 1)) / 2\n",
    "        backup = self.chromosomes.copy()\n",
    "        for i in range(6 , self.popSize):\n",
    "            prob = random.randint(1 , total)\n",
    "            tmp = self.popSize\n",
    "            sel_ind = 0\n",
    "            while tmp != 0:\n",
    "                if prob <= tmp:\n",
    "                    self.chromosomes[i] = backup[sel_ind].copy()\n",
    "                    break\n",
    "                else:\n",
    "                    prob -= tmp\n",
    "                    sel_ind += 1\n",
    "                    tmp -= 1\n",
    "\n",
    "    def generateNewPopulation(self):\n",
    "        self.selection()\n",
    "        random.shuffle(self.chromosomes)\n",
    "        for i in range(0 , len(self.chromosomes) , 2):\n",
    "            self.chromosomes[i], self.chromosomes[i + 1] = self.crossOver(self.chromosomes[i], self.chromosomes[i + 1])\n",
    "        for i in range(0 , len(self.chromosomes) , 2):\n",
    "            self.chromosomes[i] = self.mutate(self.chromosomes[i])  \n",
    "        self.chromosomes.sort(reverse = True, key = self.calculateFitness)   \n",
    "\n",
    "    def showSchedule(self , chromosome , outputFile):\n",
    "        out = open(outputFile , 'w')\n",
    "        shiftsPlanedDoctor = []\n",
    "        for i in range(self.days):\n",
    "            shiftsPlanedDoctor.append([[] , [] , []])\n",
    "        for i in range(0, len(chromosome), 3 * self.days):\n",
    "            for j in range(i , i + 3 * self.days , 3):\n",
    "                for k in range(j , j + 3): \n",
    "                    if chromosome[k] == 1:\n",
    "                        shiftsPlanedDoctor[(j - i) // 3][k - j].append(i // (3 * self.days))\n",
    "        for i in range(self.days):\n",
    "            for j in range(3):\n",
    "                if len(shiftsPlanedDoctor[i][j]) == 0:\n",
    "                    out.write('empty ')\n",
    "                elif len(shiftsPlanedDoctor[i][j]) == 1:\n",
    "                    out.write(str(shiftsPlanedDoctor[i][j][0]) + ' ')\n",
    "                else:\n",
    "                    out.write(str(shiftsPlanedDoctor[i][j][0]))\n",
    "                    for k in range(1 , len(shiftsPlanedDoctor[i][j])):\n",
    "                        out.write(',' + str(shiftsPlanedDoctor[i][j][k]))\n",
    "                    out.write(' ')\n",
    "            out.write('\\n')\n",
    "        out.close()\n",
    "\n",
    "    def schedule(self , outputFile):\n",
    "        self.chromosomes.sort(reverse = True, key = self.calculateFitness) \n",
    "        while (self.calculateFitness(self.chromosomes[0]) != self.goalFitnessVal):\n",
    "            self.generateNewPopulation()\n",
    "        self.showSchedule(self.chromosomes[0], outputFile)"
   ]
  },
  {
   "cell_type": "markdown",
   "metadata": {},
   "source": [
    "<h2 style = \"font-size: 25px;\">Execution</h2>"
   ]
  },
  {
   "cell_type": "code",
   "execution_count": 5,
   "metadata": {},
   "outputs": [
    {
     "name": "stdout",
     "output_type": "stream",
     "text": [
      "test 1:  3.03 sec\n"
     ]
    }
   ],
   "source": [
    "import time\n",
    "\n",
    "fileInfo1 = readInput(testFile1)\n",
    "\n",
    "start = time.time()\n",
    "\n",
    "scheduler = JobScheduler(fileInfo1)\n",
    "scheduler.schedule(outputFile1)\n",
    "\n",
    "end = time.time()\n",
    "\n",
    "print(\"test 1: \", '%.2f'%(end - start), 'sec')"
   ]
  },
  {
   "cell_type": "code",
   "execution_count": 6,
   "metadata": {},
   "outputs": [
    {
     "name": "stdout",
     "output_type": "stream",
     "text": [
      "Test 2:  21.11 sec\n"
     ]
    }
   ],
   "source": [
    "fileInfo2 = readInput(testFile2)\n",
    "\n",
    "start = time.time()\n",
    "\n",
    "scheduler = JobScheduler(fileInfo2)\n",
    "scheduler.schedule(outputFile2)\n",
    "\n",
    "end = time.time()\n",
    "\n",
    "print(\"Test 2: \", '%.2f'%(end - start), 'sec')"
   ]
  },
  {
   "cell_type": "code",
   "execution_count": null,
   "metadata": {},
   "outputs": [],
   "source": []
  }
 ],
 "metadata": {
  "kernelspec": {
   "display_name": "Python 3",
   "language": "python",
   "name": "python3"
  },
  "language_info": {
   "codemirror_mode": {
    "name": "ipython",
    "version": 3
   },
   "file_extension": ".py",
   "mimetype": "text/x-python",
   "name": "python",
   "nbconvert_exporter": "python",
   "pygments_lexer": "ipython3",
   "version": "3.7.0"
  }
 },
 "nbformat": 4,
 "nbformat_minor": 4
}
